{
 "cells": [
  {
   "cell_type": "code",
   "execution_count": 1,
   "metadata": {},
   "outputs": [
    {
     "name": "stdout",
     "output_type": "stream",
     "text": [
      "5\n"
     ]
    }
   ],
   "source": [
    "import tensorflow as tf\n",
    "\n",
    "# a = 2\n",
    "a = tf.constant(2, name=\"tb_a\")\n",
    "\n",
    "# b = 3\n",
    "b = tf.constant(3, name=\"tb_b\")\n",
    "\n",
    "# x = a + b\n",
    "x = tf.add(a, b)\n",
    "\n",
    "\n",
    "# for example,\n",
    "# (a, b, x) are varialbe_name in code\n",
    "# (tb_a, tb_b, tb_x) are variable_name in TensorBoard.\n",
    "\n",
    "init = tf.global_variables_initializer()\n",
    "with tf.Session() as sess:    \n",
    "    sess.run(init)\n",
    "    \n",
    "    # run TensorFlow Session & construct graph(TensorBoard)\n",
    "    print (sess.run(x))\n",
    "    \n"
   ]
  },
  {
   "cell_type": "code",
   "execution_count": null,
   "metadata": {
    "collapsed": true
   },
   "outputs": [],
   "source": []
  }
 ],
 "metadata": {
  "kernelspec": {
   "display_name": "Python 3",
   "language": "python",
   "name": "python3"
  },
  "language_info": {
   "codemirror_mode": {
    "name": "ipython",
    "version": 3
   },
   "file_extension": ".py",
   "mimetype": "text/x-python",
   "name": "python",
   "nbconvert_exporter": "python",
   "pygments_lexer": "ipython3",
   "version": "3.5.2"
  }
 },
 "nbformat": 4,
 "nbformat_minor": 2
}
