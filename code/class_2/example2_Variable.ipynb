{
 "cells": [
  {
   "cell_type": "code",
   "execution_count": 2,
   "metadata": {},
   "outputs": [
    {
     "name": "stdout",
     "output_type": "stream",
     "text": [
      "6000\n"
     ]
    }
   ],
   "source": [
    "import tensorflow as tf\n",
    "\n",
    "# x = 10\n",
    "x = tf.Variable(10, name=\"x\")\n",
    "\n",
    "# y = 20\n",
    "y = tf.Variable(20, name=\"y\")\n",
    "\n",
    "# z1 = x + y = 30\n",
    "z1 = tf.add(x, y, name = \"z1\")\n",
    "\n",
    "# z2 = x * y = 200\n",
    "z2 = tf.multiply(x, y, name = \"z2\")\n",
    "\n",
    "# z3 = z1 * z2 = 6000\n",
    "z3 = tf.multiply(z1, z2, name = \"z3\")\n",
    "\n",
    "init = tf.global_variables_initializer()\n",
    "with tf.Session() as sess:\n",
    "    sess.run(init)\n",
    "\n",
    "    print(sess.run(z3))\n"
   ]
  },
  {
   "cell_type": "code",
   "execution_count": null,
   "metadata": {
    "collapsed": true
   },
   "outputs": [],
   "source": []
  }
 ],
 "metadata": {
  "kernelspec": {
   "display_name": "Python 3",
   "language": "python",
   "name": "python3"
  },
  "language_info": {
   "codemirror_mode": {
    "name": "ipython",
    "version": 3
   },
   "file_extension": ".py",
   "mimetype": "text/x-python",
   "name": "python",
   "nbconvert_exporter": "python",
   "pygments_lexer": "ipython3",
   "version": "3.5.2"
  }
 },
 "nbformat": 4,
 "nbformat_minor": 2
}
